{
 "cells": [
  {
   "cell_type": "markdown",
   "id": "3bc46a1e-8522-436f-b425-1334e31fdae0",
   "metadata": {},
   "source": [
    "1. Count Vowels Function"
   ]
  },
  {
   "cell_type": "code",
   "execution_count": 2,
   "id": "48a50ec7-a6e3-4424-8fc6-460c4dc93b16",
   "metadata": {},
   "outputs": [],
   "source": [
    "def count_vowels(word):\n",
    "    vowels = 'aeiouAEIOU'\n",
    "    return sum(1 for letter in word if letter in vowels)"
   ]
  },
  {
   "cell_type": "code",
   "execution_count": 24,
   "id": "6b361fcd-11c7-4315-ad43-e9c6d72c20f7",
   "metadata": {},
   "outputs": [
    {
     "data": {
      "text/plain": [
       "3"
      ]
     },
     "execution_count": 24,
     "metadata": {},
     "output_type": "execute_result"
    }
   ],
   "source": [
    "count_vowels('newjeans')"
   ]
  },
  {
   "cell_type": "markdown",
   "id": "66c4f9e8-ad15-46b9-b002-ef7dc7e73df5",
   "metadata": {},
   "source": [
    "2. Print Animals in Uppercase"
   ]
  },
  {
   "cell_type": "code",
   "execution_count": 27,
   "id": "82beca7a-4b8d-4538-bd36-cd33b8ad0283",
   "metadata": {},
   "outputs": [
    {
     "name": "stdout",
     "output_type": "stream",
     "text": [
      "TIGER\n",
      "ELEPHANT\n",
      "MONKEY\n",
      "ZEBRA\n",
      "PANTHER\n"
     ]
    }
   ],
   "source": [
    "animals = ['tiger', 'elephant', 'monkey', 'zebra', 'panther']\n",
    "for animal in animals:\n",
    "    print(animal.upper())"
   ]
  },
  {
   "cell_type": "markdown",
   "id": "5dce1695-0ded-4691-b79b-9b68b1f94ad1",
   "metadata": {},
   "source": [
    "3. Odd or Even Numbers"
   ]
  },
  {
   "cell_type": "code",
   "execution_count": 30,
   "id": "447606a8-3297-4e8a-ae56-d7dd2649196c",
   "metadata": {},
   "outputs": [
    {
     "name": "stdout",
     "output_type": "stream",
     "text": [
      "1 is odd\n",
      "2 is even\n",
      "3 is odd\n",
      "4 is even\n",
      "5 is odd\n",
      "6 is even\n",
      "7 is odd\n",
      "8 is even\n",
      "9 is odd\n",
      "10 is even\n",
      "11 is odd\n",
      "12 is even\n",
      "13 is odd\n",
      "14 is even\n",
      "15 is odd\n",
      "16 is even\n",
      "17 is odd\n",
      "18 is even\n",
      "19 is odd\n",
      "20 is even\n"
     ]
    }
   ],
   "source": [
    "for i in range(1, 21):\n",
    "    status = 'even' if i % 2 == 0 else 'odd'\n",
    "    print(f'{i} is {status}')"
   ]
  },
  {
   "cell_type": "markdown",
   "id": "d09647db-81e7-40e6-890b-5fc88e475145",
   "metadata": {},
   "source": [
    "4. Sum of Integers Function"
   ]
  },
  {
   "cell_type": "code",
   "execution_count": 33,
   "id": "cb609f0c-75d4-4a67-92e1-af10c5840f16",
   "metadata": {},
   "outputs": [],
   "source": [
    "def sum_of_integers(a, b):\n",
    "    return a + b"
   ]
  },
  {
   "cell_type": "code",
   "execution_count": 35,
   "id": "4172fc8d-e25c-4552-a2b1-758955f2cb54",
   "metadata": {},
   "outputs": [
    {
     "data": {
      "text/plain": [
       "8"
      ]
     },
     "execution_count": 35,
     "metadata": {},
     "output_type": "execute_result"
    }
   ],
   "source": [
    "sum_of_integers(3, 5)"
   ]
  },
  {
   "cell_type": "code",
   "execution_count": 37,
   "id": "f8aaf1fa-162b-4c38-8953-bfd2a49f0f39",
   "metadata": {},
   "outputs": [
    {
     "name": "stdin",
     "output_type": "stream",
     "text": [
      "Enter the first integer:  5\n",
      "Enter the second integer:  5\n"
     ]
    },
    {
     "name": "stdout",
     "output_type": "stream",
     "text": [
      "The sum of 5 and 5 is: 10\n"
     ]
    }
   ],
   "source": [
    "def sum_of_integers(a, b):\n",
    "    return a + b\n",
    "    \n",
    "a = int(input(\"Enter the first integer: \"))\n",
    "b = int(input(\"Enter the second integer: \"))\n",
    "result = sum_of_integers(a, b)\n",
    "print(f\"The sum of {a} and {b} is: {result}\")"
   ]
  },
  {
   "cell_type": "code",
   "execution_count": null,
   "id": "9ab51988-4446-422f-aa9d-4b741891aa0a",
   "metadata": {},
   "outputs": [],
   "source": []
  }
 ],
 "metadata": {
  "kernelspec": {
   "display_name": "Python 3 (ipykernel)",
   "language": "python",
   "name": "python3"
  },
  "language_info": {
   "codemirror_mode": {
    "name": "ipython",
    "version": 3
   },
   "file_extension": ".py",
   "mimetype": "text/x-python",
   "name": "python",
   "nbconvert_exporter": "python",
   "pygments_lexer": "ipython3",
   "version": "3.12.4"
  }
 },
 "nbformat": 4,
 "nbformat_minor": 5
}
